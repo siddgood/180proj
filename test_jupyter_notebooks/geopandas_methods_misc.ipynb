{
 "cells": [
  {
   "cell_type": "code",
   "execution_count": 1,
   "metadata": {
    "id": "FwQnJWTjnVFG"
   },
   "outputs": [],
   "source": [
    "# !pip install geopandas\n",
    "# !pip install pygeos\n",
    "# !pip install rtree\n",
    "# !pip install geopy"
   ]
  },
  {
   "cell_type": "code",
   "execution_count": 2,
   "metadata": {
    "id": "ZZ76bxgmQBqu"
   },
   "outputs": [],
   "source": [
    "# from google.colab import drive\n",
    "# drive.mount('/content/drive')"
   ]
  },
  {
   "cell_type": "code",
   "execution_count": 3,
   "metadata": {
    "id": "iqJ3_WD6ndvz"
   },
   "outputs": [
    {
     "name": "stderr",
     "output_type": "stream",
     "text": [
      "/Users/sidd/anaconda3/lib/python3.7/site-packages/geopandas/_compat.py:110: UserWarning: The Shapely GEOS version (3.8.0-CAPI-1.13.1 ) is incompatible with the GEOS version PyGEOS was compiled with (3.9.0-CAPI-1.16.2). Conversions between both will be slow.\n",
      "  shapely_geos_version, geos_capi_version_string\n"
     ]
    }
   ],
   "source": [
    "import geopandas as gpd\n",
    "from shapely.geometry import Point, LineString, MultiPoint\n",
    "import pandas as pd\n",
    "import numpy as np\n",
    "import matplotlib.pyplot as plt\n",
    "import geopy"
   ]
  },
  {
   "cell_type": "code",
   "execution_count": 4,
   "metadata": {
    "id": "TJdXnwAin4wV"
   },
   "outputs": [],
   "source": [
    "def join_reducer(left, right):\n",
    "    \"\"\"\n",
    "    Take two geodataframes, do a spatial join, and return \n",
    "    without the index_left and index_right columns\n",
    "    \"\"\"\n",
    "    sjoin = gpd.sjoin(left, right, how='inner')\n",
    "    for column in ['index_left', 'index_right']:\n",
    "        try:\n",
    "            sjoin.drop(column, axis=1, inplace=True)\n",
    "        except Exception as e:\n",
    "            # ignore if there are no index columns\n",
    "            pass\n",
    "    \n",
    "    return sjoin"
   ]
  },
  {
   "cell_type": "code",
   "execution_count": 5,
   "metadata": {
    "id": "MbY8GEyCvWoU"
   },
   "outputs": [],
   "source": [
    "# Function to generate random points and lines on roads\n",
    "\n",
    "# Source: https://github.com/gboeing/osmnx/issues/639\n",
    "\n",
    "def sample_roads(geodf, n=100, isLine=False):\n",
    "  '''\n",
    "  Sample points and lines(street segments) from a road network\n",
    "  '''\n",
    "  m = len(geodf)\n",
    "  lengths = geodf['LENGTH'].tolist()\n",
    "  total_length = geodf.sum()['LENGTH']\n",
    "  lengths_normalized = [l/total_length for l in lengths] \n",
    "\n",
    "  indices = np.random.choice(range(m), size=n, p=lengths_normalized)\n",
    "  # indices = np.random.choice(range(m), size=n)\n",
    "\n",
    "  if isLine:\n",
    "    lines = []\n",
    "    for index in indices:\n",
    "      line = geodf.iloc[index]['geometry']\n",
    "      lines.append(line)\n",
    "  \n",
    "    # return MultiPoint(lines)\n",
    "    return gpd.GeoSeries(lines)\n",
    "  \n",
    "  points = []\n",
    "  for index in indices:\n",
    "      line = geodf.iloc[index]['geometry']\n",
    "      offset = np.random.rand() * line.length\n",
    "      point = line.interpolate(offset)\n",
    "      points.append(point)\n",
    "      \n",
    "  # return MultiPoint(points)\n",
    "  return gpd.GeoSeries(points)"
   ]
  },
  {
   "cell_type": "code",
   "execution_count": 6,
   "metadata": {
    "id": "oXzMCVW-cKtS"
   },
   "outputs": [],
   "source": [
    "def sample_location(geodf, n, buffer=None):\n",
    "  '''\n",
    "  Samples from a shapefile that has \n",
    "  ALL entries as point geometries\n",
    "  '''\n",
    "  m = len(geodf)\n",
    "  indices = np.random.choice(range(m), size=n)\n",
    "  sample = []\n",
    "\n",
    "  for index in indices:\n",
    "    point = geodf.iloc[index]['geometry']\n",
    "    sample.append(point)\n",
    "\n",
    "  output = gpd.GeoSeries(sample)\n",
    "  if buffer:\n",
    "    output.set_crs('EPSG:4326', inplace=True)\n",
    "    output = output.to_crs(epsg=3763)\n",
    "    output = output.buffer(buffer)\n",
    "    output = output.to_crs(epsg=4326)\n",
    "  return output"
   ]
  },
  {
   "cell_type": "code",
   "execution_count": 7,
   "metadata": {
    "id": "qlJ81KAXvaLA"
   },
   "outputs": [],
   "source": [
    "def reverse_geocode(geoseries, provider='arcgis'):\n",
    "  '''\n",
    "  Function to reverse geocode GeoSeries points\n",
    "  '''\n",
    "  return gpd.tools.reverse_geocode(list(geoseries), provider=provider)"
   ]
  },
  {
   "cell_type": "code",
   "execution_count": 8,
   "metadata": {
    "id": "V74oHL4k6Uyp"
   },
   "outputs": [],
   "source": [
    "def geoseries_to_geodf(geoseries):\n",
    "  '''\n",
    "  Converts a simple GeoSeries to a GeoPandas dataframe with a geometry column\n",
    "  '''\n",
    "  output_gdf = gpd.GeoDataFrame(geoseries)\n",
    "  output_gdf.rename(columns={0:'geometry'}).set_geometry('geometry')\n",
    "  return output_gdf"
   ]
  },
  {
   "cell_type": "markdown",
   "metadata": {
    "id": "LADnf0QVnqP8"
   },
   "source": [
    "# Sample Points and Lines"
   ]
  },
  {
   "cell_type": "markdown",
   "metadata": {
    "id": "XNHuDAs9nwPn"
   },
   "source": [
    "## Road Network x County (Boundary)"
   ]
  },
  {
   "cell_type": "code",
   "execution_count": 9,
   "metadata": {
    "id": "Vn1lmJamnj2B"
   },
   "outputs": [],
   "source": [
    "fl_roads = gpd.read_file(\"./data/majrds_oct19/majrds_oct19.shp\") # LINESTRING geometry\n",
    "fl_roads = fl_roads.to_crs(\"EPSG:4326\")"
   ]
  },
  {
   "cell_type": "code",
   "execution_count": 10,
   "metadata": {
    "id": "YmNNJv7BpA8h"
   },
   "outputs": [],
   "source": [
    "fl_counties = gpd.read_file(\"./data/cntbnd_sep15/cntbnd_sep15.shp\") # POLYGON geometry\n",
    "fl_counties = fl_counties.to_crs(\"EPSG:4326\")"
   ]
  },
  {
   "cell_type": "code",
   "execution_count": 11,
   "metadata": {
    "id": "Z6ByfAqLpaIM"
   },
   "outputs": [],
   "source": [
    "fl_hil = fl_counties[fl_counties['TIGERNAME'] == 'Hillsborough'] "
   ]
  },
  {
   "cell_type": "code",
   "execution_count": 12,
   "metadata": {
    "colab": {
     "base_uri": "https://localhost:8080/",
     "height": 285
    },
    "executionInfo": {
     "elapsed": 13105,
     "status": "ok",
     "timestamp": 1616601043155,
     "user": {
      "displayName": "Siddharth Kumaran",
      "photoUrl": "",
      "userId": "10724253737584617300"
     },
     "user_tz": 300
    },
    "id": "HFWVXbM6Zioz",
    "outputId": "effd160d-4f00-4fac-ba29-16e27a06f63d"
   },
   "outputs": [
    {
     "data": {
      "text/plain": [
       "<matplotlib.axes._subplots.AxesSubplot at 0x7ffb57f36c18>"
      ]
     },
     "execution_count": 12,
     "metadata": {},
     "output_type": "execute_result"
    },
    {
     "data": {
      "image/png": "[encoded data removed]",
      "text/plain": [
       "<Figure size 432x288 with 1 Axes>"
      ]
     },
     "metadata": {
      "needs_background": "light"
     },
     "output_type": "display_data"
    }
   ],
   "source": [
    "fl_hil.plot(facecolor=\"none\", edgecolor=\"black\")"
   ]
  },
  {
   "cell_type": "code",
   "execution_count": null,
   "metadata": {
    "id": "YJusbqj1p6w_"
   },
   "outputs": [],
   "source": [
    "fl_roads_hil = join_reducer(fl_roads, fl_hil) # road network MUST be left parameter when joining"
   ]
  },
  {
   "cell_type": "code",
   "execution_count": null,
   "metadata": {
    "id": "IxIMhNGxuz6L"
   },
   "outputs": [],
   "source": [
    "sample_road_points = sample_roads(fl_roads_hil, n=10)"
   ]
  },
  {
   "cell_type": "code",
   "execution_count": null,
   "metadata": {
    "colab": {
     "base_uri": "https://localhost:8080/",
     "height": 343
    },
    "executionInfo": {
     "elapsed": 43540,
     "status": "ok",
     "timestamp": 1616601073595,
     "user": {
      "displayName": "Siddharth Kumaran",
      "photoUrl": "",
      "userId": "10724253737584617300"
     },
     "user_tz": 300
    },
    "id": "U6ltc6o0u3qj",
    "outputId": "59e7c3d8-f1b4-453e-b40e-1e01a51fba50"
   },
   "outputs": [],
   "source": [
    "reverse_geocode(sample_road_points)"
   ]
  },
  {
   "cell_type": "code",
   "execution_count": null,
   "metadata": {
    "id": "3hfjvmBiZ4g5"
   },
   "outputs": [],
   "source": [
    "# ax = fl_hil.plot(figsize=(14,12), facecolor=\"none\", edgecolor=\"black\")\n",
    "# fl_roads_hil.plot(ax=ax)\n",
    "# sample_road_points.plot(marker='*', color='red', markersize=12, ax=ax)"
   ]
  },
  {
   "cell_type": "code",
   "execution_count": null,
   "metadata": {
    "colab": {
     "base_uri": "https://localhost:8080/",
     "height": 717
    },
    "executionInfo": {
     "elapsed": 44249,
     "status": "ok",
     "timestamp": 1616601074309,
     "user": {
      "displayName": "Siddharth Kumaran",
      "photoUrl": "",
      "userId": "10724253737584617300"
     },
     "user_tz": 300
    },
    "id": "cQUAKHyDwl-W",
    "outputId": "8f78a003-89f9-4875-cf02-1301de45dc50"
   },
   "outputs": [],
   "source": [
    "ax = fl_roads_hil.plot(figsize=(14, 12))\n",
    "sample_road_points.plot(marker='*', color='red', markersize=15, ax=ax)"
   ]
  },
  {
   "cell_type": "code",
   "execution_count": null,
   "metadata": {
    "colab": {
     "base_uri": "https://localhost:8080/"
    },
    "executionInfo": {
     "elapsed": 44246,
     "status": "ok",
     "timestamp": 1616601074309,
     "user": {
      "displayName": "Siddharth Kumaran",
      "photoUrl": "",
      "userId": "10724253737584617300"
     },
     "user_tz": 300
    },
    "id": "QZLpDpe7wrEJ",
    "outputId": "fb3b1c13-9239-4c18-826d-10097251b05e"
   },
   "outputs": [],
   "source": [
    "sample_road_lines = sample_roads(fl_roads_hil, n=10, isLine=True)\n",
    "sample_road_lines"
   ]
  },
  {
   "cell_type": "code",
   "execution_count": null,
   "metadata": {
    "colab": {
     "base_uri": "https://localhost:8080/",
     "height": 717
    },
    "executionInfo": {
     "elapsed": 45128,
     "status": "ok",
     "timestamp": 1616601075194,
     "user": {
      "displayName": "Siddharth Kumaran",
      "photoUrl": "",
      "userId": "10724253737584617300"
     },
     "user_tz": 300
    },
    "id": "6ubBFw71qj4e",
    "outputId": "6ebe91e0-df8e-4778-d48e-138abd1cb2fc"
   },
   "outputs": [],
   "source": [
    "ax = fl_roads_hil.plot(figsize=(14, 12))\n",
    "sample_road_lines.plot(color='red', ax=ax)"
   ]
  },
  {
   "cell_type": "markdown",
   "metadata": {
    "id": "2dJO6Jyzw3A4"
   },
   "source": [
    "## Road Network x County x Parks & Rec (Boundary)"
   ]
  },
  {
   "cell_type": "code",
   "execution_count": null,
   "metadata": {
    "id": "cm4B2QY5wzd6"
   },
   "outputs": [],
   "source": [
    "fl_parks = gpd.read_file(\"./data/gc_parksbnd_oct19/gc_parksbnd_oct19.shp\") # POLYGON geometry\n",
    "fl_parks = fl_parks.to_crs(\"EPSG:4326\")"
   ]
  },
  {
   "cell_type": "code",
   "execution_count": null,
   "metadata": {
    "colab": {
     "base_uri": "https://localhost:8080/",
     "height": 585
    },
    "executionInfo": {
     "elapsed": 6458,
     "status": "ok",
     "timestamp": 1616601114844,
     "user": {
      "displayName": "Siddharth Kumaran",
      "photoUrl": "",
      "userId": "10724253737584617300"
     },
     "user_tz": 300
    },
    "id": "P2R3_tvRKYBS",
    "outputId": "8aee7ed7-a166-41cf-b73e-faafa3fc7505"
   },
   "outputs": [],
   "source": [
    "fl_parks.head()"
   ]
  },
  {
   "cell_type": "code",
   "execution_count": null,
   "metadata": {
    "colab": {
     "base_uri": "https://localhost:8080/",
     "height": 717
    },
    "executionInfo": {
     "elapsed": 10373,
     "status": "ok",
     "timestamp": 1616601118762,
     "user": {
      "displayName": "Siddharth Kumaran",
      "photoUrl": "",
      "userId": "10724253737584617300"
     },
     "user_tz": 300
    },
    "id": "446NgTAwThkz",
    "outputId": "f877e280-fb6d-4c25-c47a-fd74514f6fc5"
   },
   "outputs": [],
   "source": [
    "fl_parks.plot(figsize=(14, 12))"
   ]
  },
  {
   "cell_type": "code",
   "execution_count": null,
   "metadata": {
    "id": "fBu-Mp-9Ki0t"
   },
   "outputs": [],
   "source": [
    "fl_hil_parks = fl_parks[fl_parks['COUNTY'] == 'HILLSBOROUGH']"
   ]
  },
  {
   "cell_type": "code",
   "execution_count": null,
   "metadata": {
    "id": "EKSsVE9iK2QK"
   },
   "outputs": [],
   "source": [
    "fl_roads_hil_parks = join_reducer(fl_roads, fl_hil_parks)"
   ]
  },
  {
   "cell_type": "code",
   "execution_count": null,
   "metadata": {
    "colab": {
     "base_uri": "https://localhost:8080/",
     "height": 551
    },
    "executionInfo": {
     "elapsed": 10579,
     "status": "ok",
     "timestamp": 1616601118974,
     "user": {
      "displayName": "Siddharth Kumaran",
      "photoUrl": "",
      "userId": "10724253737584617300"
     },
     "user_tz": 300
    },
    "id": "pbHkRBd_x5kA",
    "outputId": "2f7af431-634c-498d-d669-e8cfd20f10bb"
   },
   "outputs": [],
   "source": [
    "fl_roads_hil_parks.head()"
   ]
  },
  {
   "cell_type": "code",
   "execution_count": null,
   "metadata": {
    "colab": {
     "base_uri": "https://localhost:8080/",
     "height": 717
    },
    "executionInfo": {
     "elapsed": 10914,
     "status": "ok",
     "timestamp": 1616601119312,
     "user": {
      "displayName": "Siddharth Kumaran",
      "photoUrl": "",
      "userId": "10724253737584617300"
     },
     "user_tz": 300
    },
    "id": "HgdZIcpNx8zm",
    "outputId": "4c81b54c-e576-469a-bbae-9b100bf27fa4"
   },
   "outputs": [],
   "source": [
    "fl_roads_hil_parks.plot(figsize=(14,12))"
   ]
  },
  {
   "cell_type": "code",
   "execution_count": null,
   "metadata": {
    "id": "6Tzcef1uyAFE"
   },
   "outputs": [],
   "source": [
    "sample_park_points = sample_roads(fl_roads_hil_parks, n=5)"
   ]
  },
  {
   "cell_type": "code",
   "execution_count": null,
   "metadata": {
    "colab": {
     "base_uri": "https://localhost:8080/",
     "height": 717
    },
    "executionInfo": {
     "elapsed": 11283,
     "status": "ok",
     "timestamp": 1616601119685,
     "user": {
      "displayName": "Siddharth Kumaran",
      "photoUrl": "",
      "userId": "10724253737584617300"
     },
     "user_tz": 300
    },
    "id": "70vv_iDnyRQ7",
    "outputId": "95479cb3-ea4a-47d0-c394-b5b400cb19ce"
   },
   "outputs": [],
   "source": [
    "ax = fl_roads_hil_parks.plot(figsize=(14, 12))\n",
    "sample_park_points.plot(marker='*', color='red', markersize=12, ax=ax)"
   ]
  },
  {
   "cell_type": "code",
   "execution_count": null,
   "metadata": {
    "id": "jiXWr2WIymWG"
   },
   "outputs": [],
   "source": [
    "sample_park_lines = sample_roads(fl_roads_hil_parks, n=5, isLine=True)"
   ]
  },
  {
   "cell_type": "code",
   "execution_count": null,
   "metadata": {
    "colab": {
     "base_uri": "https://localhost:8080/",
     "height": 717
    },
    "executionInfo": {
     "elapsed": 11620,
     "status": "ok",
     "timestamp": 1616601120025,
     "user": {
      "displayName": "Siddharth Kumaran",
      "photoUrl": "",
      "userId": "10724253737584617300"
     },
     "user_tz": 300
    },
    "id": "xRu4SAs7yWpb",
    "outputId": "bdb0bdc0-b514-4679-cd66-ab2a005658ec"
   },
   "outputs": [],
   "source": [
    "ax = fl_roads_hil_parks.plot(figsize=(14, 12))\n",
    "sample_park_lines.plot(color='red', markersize=10, ax=ax)"
   ]
  },
  {
   "cell_type": "markdown",
   "metadata": {
    "id": "Q5gqa_jcIcDb"
   },
   "source": [
    "## Road Network x County x Hospital (Boundaries)"
   ]
  },
  {
   "cell_type": "code",
   "execution_count": null,
   "metadata": {
    "id": "18hVTsVGIzY6"
   },
   "outputs": [],
   "source": [
    "fl_hosp = gpd.read_file(\"./data/gc_hospitalsbnd_sep17/gc_hospitalsbnd_sep17.shp\") # POLYGON geometry\n",
    "fl_hosp = fl_hosp.to_crs(\"EPSG:4326\")"
   ]
  },
  {
   "cell_type": "code",
   "execution_count": null,
   "metadata": {
    "colab": {
     "base_uri": "https://localhost:8080/",
     "height": 568
    },
    "executionInfo": {
     "elapsed": 2519,
     "status": "ok",
     "timestamp": 1616601177162,
     "user": {
      "displayName": "Siddharth Kumaran",
      "photoUrl": "",
      "userId": "10724253737584617300"
     },
     "user_tz": 300
    },
    "id": "HUkfMoQWLET-",
    "outputId": "f0884311-488d-4cec-ebd0-ef5d321d224b"
   },
   "outputs": [],
   "source": [
    "fl_hosp.head()"
   ]
  },
  {
   "cell_type": "code",
   "execution_count": null,
   "metadata": {
    "id": "-6cJKMKKJkPI"
   },
   "outputs": [],
   "source": [
    "fl_hil_hosp = fl_hosp[fl_hosp['COUNTY']=='HILLSBOROUGH']"
   ]
  },
  {
   "cell_type": "code",
   "execution_count": null,
   "metadata": {
    "colab": {
     "base_uri": "https://localhost:8080/",
     "height": 717
    },
    "executionInfo": {
     "elapsed": 3125,
     "status": "ok",
     "timestamp": 1616601177772,
     "user": {
      "displayName": "Siddharth Kumaran",
      "photoUrl": "",
      "userId": "10724253737584617300"
     },
     "user_tz": 300
    },
    "id": "Rp3qzIi4LR1N",
    "outputId": "a04fb142-3eda-4fcb-dee9-8e971343727a"
   },
   "outputs": [],
   "source": [
    "fl_hil_hosp.plot(figsize=(14,12))"
   ]
  },
  {
   "cell_type": "code",
   "execution_count": null,
   "metadata": {
    "id": "xljtfMi9JHfa"
   },
   "outputs": [],
   "source": [
    "fl_roads_hil_hosp = join_reducer(fl_roads, fl_hil_hosp)"
   ]
  },
  {
   "cell_type": "code",
   "execution_count": null,
   "metadata": {
    "colab": {
     "base_uri": "https://localhost:8080/",
     "height": 717
    },
    "executionInfo": {
     "elapsed": 3391,
     "status": "ok",
     "timestamp": 1616601178042,
     "user": {
      "displayName": "Siddharth Kumaran",
      "photoUrl": "",
      "userId": "10724253737584617300"
     },
     "user_tz": 300
    },
    "id": "naQqrmLTJggs",
    "outputId": "a4306f2a-1d78-4636-c2d9-c40cd6cc9624"
   },
   "outputs": [],
   "source": [
    "fl_roads_hil_hosp.plot(figsize=(14,12))"
   ]
  },
  {
   "cell_type": "code",
   "execution_count": null,
   "metadata": {
    "colab": {
     "base_uri": "https://localhost:8080/"
    },
    "executionInfo": {
     "elapsed": 3389,
     "status": "ok",
     "timestamp": 1616601178043,
     "user": {
      "displayName": "Siddharth Kumaran",
      "photoUrl": "",
      "userId": "10724253737584617300"
     },
     "user_tz": 300
    },
    "id": "6UgRWT4eJNDr",
    "outputId": "58379763-2ce0-4fbc-8813-66c87eaacbd0"
   },
   "outputs": [],
   "source": [
    "sample_hosp_points = sample_roads(fl_roads_hil_hosp, n=5)\n",
    "sample_hosp_points"
   ]
  },
  {
   "cell_type": "code",
   "execution_count": null,
   "metadata": {
    "colab": {
     "base_uri": "https://localhost:8080/",
     "height": 717
    },
    "executionInfo": {
     "elapsed": 3597,
     "status": "ok",
     "timestamp": 1616601178254,
     "user": {
      "displayName": "Siddharth Kumaran",
      "photoUrl": "",
      "userId": "10724253737584617300"
     },
     "user_tz": 300
    },
    "id": "p2ZAdO-EJV10",
    "outputId": "8d531983-6ad3-4376-d334-079bda44fc1a"
   },
   "outputs": [],
   "source": [
    "ax = fl_roads_hil_hosp.plot(figsize=(14, 12))\n",
    "sample_hosp_points.plot(marker='*', color='red', markersize=12, ax=ax)"
   ]
  },
  {
   "cell_type": "markdown",
   "metadata": {
    "id": "QyWY8SPQ2hjQ"
   },
   "source": [
    "## Road Network x County x Civic Centers"
   ]
  },
  {
   "cell_type": "code",
   "execution_count": null,
   "metadata": {
    "id": "t0IlXUI_2nQ9"
   },
   "outputs": [],
   "source": [
    "fl_civic = gpd.read_file(\"./data/gc_civiccenter_jan19/gc_civiccenter_jan19.shp\")\n",
    "fl_civic = fl_civic.to_crs(\"EPSG:4326\")"
   ]
  },
  {
   "cell_type": "code",
   "execution_count": null,
   "metadata": {
    "colab": {
     "base_uri": "https://localhost:8080/",
     "height": 501
    },
    "executionInfo": {
     "elapsed": 2325,
     "status": "ok",
     "timestamp": 1616601230009,
     "user": {
      "displayName": "Siddharth Kumaran",
      "photoUrl": "",
      "userId": "10724253737584617300"
     },
     "user_tz": 300
    },
    "id": "jXkbriSU21CH",
    "outputId": "2b3d6ce2-2483-43f9-af37-0d3cee7fa7b5"
   },
   "outputs": [],
   "source": [
    "fl_civic.head()"
   ]
  },
  {
   "cell_type": "code",
   "execution_count": null,
   "metadata": {
    "colab": {
     "base_uri": "https://localhost:8080/",
     "height": 717
    },
    "executionInfo": {
     "elapsed": 2709,
     "status": "ok",
     "timestamp": 1616601230396,
     "user": {
      "displayName": "Siddharth Kumaran",
      "photoUrl": "",
      "userId": "10724253737584617300"
     },
     "user_tz": 300
    },
    "id": "WvpcDacn2xv6",
    "outputId": "e8b86043-3619-4e0f-bb29-2997738ad7d7"
   },
   "outputs": [],
   "source": [
    "fl_civic.plot(figsize=(14,12))"
   ]
  },
  {
   "cell_type": "code",
   "execution_count": null,
   "metadata": {
    "colab": {
     "base_uri": "https://localhost:8080/",
     "height": 717
    },
    "executionInfo": {
     "elapsed": 4935,
     "status": "ok",
     "timestamp": 1616601232624,
     "user": {
      "displayName": "Siddharth Kumaran",
      "photoUrl": "",
      "userId": "10724253737584617300"
     },
     "user_tz": 300
    },
    "id": "2q8Z_CDGHy4x",
    "outputId": "858e6901-925e-4e56-af55-9d574d1818a3"
   },
   "outputs": [],
   "source": [
    "# Plotting multiple layers\n",
    "fig, ax = plt.subplots(figsize=(14, 12))\n",
    "fl_counties.plot(ax=ax, facecolor=\"none\", edgecolor='black', column='NAME')\n",
    "fl_civic.plot(ax=ax, color='blue')"
   ]
  },
  {
   "cell_type": "code",
   "execution_count": null,
   "metadata": {
    "id": "tMYCuGQu4FcC"
   },
   "outputs": [],
   "source": [
    "# https://gis.stackexchange.com/questions/367496/plot-a-circle-with-a-given-radius-around-points-on-map-using-python"
   ]
  },
  {
   "cell_type": "code",
   "execution_count": null,
   "metadata": {
    "id": "imX2ZkC5Ai9E"
   },
   "outputs": [],
   "source": [
    "fl_civic_hil = join_reducer(fl_civic, fl_hil)"
   ]
  },
  {
   "cell_type": "code",
   "execution_count": null,
   "metadata": {
    "colab": {
     "base_uri": "https://localhost:8080/",
     "height": 717
    },
    "executionInfo": {
     "elapsed": 6269,
     "status": "ok",
     "timestamp": 1616601233963,
     "user": {
      "displayName": "Siddharth Kumaran",
      "photoUrl": "",
      "userId": "10724253737584617300"
     },
     "user_tz": 300
    },
    "id": "uHP7dtEAYbvn",
    "outputId": "cdcdcf73-bc85-4d8b-bab2-fa6214597abc"
   },
   "outputs": [],
   "source": [
    "fig, ax = plt.subplots(figsize=(14, 12))\n",
    "fl_counties.plot(ax=ax, facecolor=\"none\", edgecolor='black', column='NAME')\n",
    "fl_civic_hil.plot(ax=ax, color='blue')"
   ]
  },
  {
   "cell_type": "code",
   "execution_count": null,
   "metadata": {
    "colab": {
     "base_uri": "https://localhost:8080/",
     "height": 1000
    },
    "executionInfo": {
     "elapsed": 7196,
     "status": "ok",
     "timestamp": 1616601234893,
     "user": {
      "displayName": "Siddharth Kumaran",
      "photoUrl": "",
      "userId": "10724253737584617300"
     },
     "user_tz": 300
    },
    "id": "elzyrPWQY5vA",
    "outputId": "1bd73ea7-bf92-4395-becf-4527cb835288"
   },
   "outputs": [],
   "source": [
    "ax = fl_hil.plot(figsize=(20,18), facecolor=\"none\", edgecolor=\"black\")\n",
    "fl_roads_hil.plot(ax=ax)\n",
    "fl_civic_hil.plot(marker='*', color='red', markersize=15, ax=ax)"
   ]
  },
  {
   "cell_type": "code",
   "execution_count": null,
   "metadata": {
    "id": "GgKQKnpWaiD3"
   },
   "outputs": [],
   "source": [
    "sample_civic_region = sample_location(fl_civic_hil, n=2, buffer=8046.72) # buffer in meters (1 mi = 1609.34 m)"
   ]
  },
  {
   "cell_type": "code",
   "execution_count": null,
   "metadata": {
    "colab": {
     "base_uri": "https://localhost:8080/",
     "height": 1000
    },
    "executionInfo": {
     "elapsed": 8206,
     "status": "ok",
     "timestamp": 1616601235907,
     "user": {
      "displayName": "Siddharth Kumaran",
      "photoUrl": "",
      "userId": "10724253737584617300"
     },
     "user_tz": 300
    },
    "id": "qfpE_xkZbKGR",
    "outputId": "8fcaa21e-768c-4f6e-d283-d0f657fab833"
   },
   "outputs": [],
   "source": [
    "ax = fl_hil.plot(figsize=(20,18), facecolor=\"none\", edgecolor=\"black\")\n",
    "fl_roads_hil.plot(ax=ax)\n",
    "sample_civic_region.plot(marker='*', color='red', ax=ax)"
   ]
  },
  {
   "cell_type": "code",
   "execution_count": null,
   "metadata": {
    "id": "LmM0kS042auJ"
   },
   "outputs": [],
   "source": [
    "sample_civic_df = gpd.GeoDataFrame(sample_civic_region)\n",
    "sample_civic_df = sample_civic_df.rename(columns={0:'geometry'}).set_geometry('geometry')"
   ]
  },
  {
   "cell_type": "code",
   "execution_count": null,
   "metadata": {
    "id": "REZ-8usWsI7Q"
   },
   "outputs": [],
   "source": [
    "fl_roads_hil_sample_civic = join_reducer(fl_roads_hil, sample_civic_df)"
   ]
  },
  {
   "cell_type": "code",
   "execution_count": null,
   "metadata": {
    "colab": {
     "base_uri": "https://localhost:8080/",
     "height": 1000
    },
    "executionInfo": {
     "elapsed": 9861,
     "status": "ok",
     "timestamp": 1616601237566,
     "user": {
      "displayName": "Siddharth Kumaran",
      "photoUrl": "",
      "userId": "10724253737584617300"
     },
     "user_tz": 300
    },
    "id": "BRPnHPGv3fue",
    "outputId": "21089d9c-66c6-41ac-8c54-54f4b5854b92"
   },
   "outputs": [],
   "source": [
    "ax = fl_hil.plot(figsize=(20,18), facecolor=\"none\", edgecolor=\"black\")\n",
    "fl_roads_hil_sample_civic.plot(ax=ax)\n",
    "sample_civic_region.plot(marker='*', color='red', ax=ax)"
   ]
  },
  {
   "cell_type": "code",
   "execution_count": null,
   "metadata": {
    "colab": {
     "base_uri": "https://localhost:8080/",
     "height": 717
    },
    "executionInfo": {
     "elapsed": 10047,
     "status": "ok",
     "timestamp": 1616601237755,
     "user": {
      "displayName": "Siddharth Kumaran",
      "photoUrl": "",
      "userId": "10724253737584617300"
     },
     "user_tz": 300
    },
    "id": "_aZAaEim3Nv9",
    "outputId": "c811c031-764b-4a81-cfbe-9e358e56cd5f"
   },
   "outputs": [],
   "source": [
    "fl_roads_hil_sample_civic.plot(figsize=(14,12))"
   ]
  },
  {
   "cell_type": "code",
   "execution_count": null,
   "metadata": {
    "id": "M5mni7Bm4m12"
   },
   "outputs": [],
   "source": [
    "sample_civic_points = sample_roads(fl_roads_hil_sample_civic, n=5)"
   ]
  },
  {
   "cell_type": "code",
   "execution_count": null,
   "metadata": {
    "colab": {
     "base_uri": "https://localhost:8080/",
     "height": 717
    },
    "executionInfo": {
     "elapsed": 10044,
     "status": "ok",
     "timestamp": 1616601237756,
     "user": {
      "displayName": "Siddharth Kumaran",
      "photoUrl": "",
      "userId": "10724253737584617300"
     },
     "user_tz": 300
    },
    "id": "Bgksz78g5Pec",
    "outputId": "94606d24-0d46-42c2-e25f-b3ebbeaa4fa1"
   },
   "outputs": [],
   "source": [
    "ax = fl_roads_hil_sample_civic.plot(figsize=(14, 12))\n",
    "sample_civic_points.plot(marker='*', color='red', markersize=15, ax=ax)"
   ]
  },
  {
   "cell_type": "code",
   "execution_count": null,
   "metadata": {
    "id": "pbzijswkFMoA"
   },
   "outputs": [],
   "source": [
    "# https://gis.stackexchange.com/questions/344983/line-and-polygon-intersection-in-geopandas-python\n",
    "\n",
    "# lines = streets.geometry.unary_union\n",
    "# intersection = lines.intersection(buffer.geometry[0])\n",
    "# type(intersection)\n",
    "# <class 'shapely.geometry.multilinestring.MultiLineString'>\n",
    "# # create a GeoDataFrame\n",
    "# result = geopandas.GeoDataFrame({'geometry':intersection})"
   ]
  },
  {
   "cell_type": "code",
   "execution_count": null,
   "metadata": {
    "id": "jViFbRNLvgw2"
   },
   "outputs": [],
   "source": [
    "lines = fl_roads_hil.geometry.unary_union\n",
    "intersection = lines.intersection(sample_civic_df.geometry[0])\n",
    "output = gpd.GeoDataFrame({'geometry':intersection})"
   ]
  },
  {
   "cell_type": "code",
   "execution_count": null,
   "metadata": {
    "id": "XyilGg_LIpRv"
   },
   "outputs": [],
   "source": [
    "length_arr = []\n",
    "for i in range(len(output)):\n",
    "  len_i = output['geometry'][i].length\n",
    "  length_arr.append(len_i)\n",
    "\n",
    "output['LENGTH'] = length_arr"
   ]
  },
  {
   "cell_type": "code",
   "execution_count": null,
   "metadata": {
    "colab": {
     "base_uri": "https://localhost:8080/",
     "height": 717
    },
    "executionInfo": {
     "elapsed": 10660,
     "status": "ok",
     "timestamp": 1616601238377,
     "user": {
      "displayName": "Siddharth Kumaran",
      "photoUrl": "",
      "userId": "10724253737584617300"
     },
     "user_tz": 300
    },
    "id": "MWOkbkyz62ud",
    "outputId": "c0c4ce1d-46fe-45e0-b1e3-69453e1e5cd0"
   },
   "outputs": [],
   "source": [
    "output.plot(figsize=(14, 12))"
   ]
  },
  {
   "cell_type": "code",
   "execution_count": null,
   "metadata": {
    "colab": {
     "base_uri": "https://localhost:8080/",
     "height": 717
    },
    "executionInfo": {
     "elapsed": 11384,
     "status": "ok",
     "timestamp": 1616601239104,
     "user": {
      "displayName": "Siddharth Kumaran",
      "photoUrl": "",
      "userId": "10724253737584617300"
     },
     "user_tz": 300
    },
    "id": "MywyXA5h6_-v",
    "outputId": "7f3d21c9-1c46-4b67-ea78-878b1aa1d11f"
   },
   "outputs": [],
   "source": [
    "output_points = sample_roads(output, n=5)\n",
    "ax = output.plot(figsize=(14, 12))\n",
    "output_points.plot(marker='*', color='red', markersize=60, ax=ax)"
   ]
  },
  {
   "cell_type": "code",
   "execution_count": null,
   "metadata": {
    "id": "tlO886bqGJAP"
   },
   "outputs": [],
   "source": [
    "intersection_2 = lines.intersection(sample_civic_df.geometry[1])\n",
    "output_2 = gpd.GeoDataFrame({'geometry':intersection_2})"
   ]
  },
  {
   "cell_type": "code",
   "execution_count": null,
   "metadata": {
    "id": "KUhBnYlbJB4e"
   },
   "outputs": [],
   "source": [
    "length_arr = []\n",
    "for i in range(len(output_2)):\n",
    "  len_i = output_2['geometry'][i].length\n",
    "  length_arr.append(len_i)\n",
    "\n",
    "output_2['LENGTH'] = length_arr"
   ]
  },
  {
   "cell_type": "code",
   "execution_count": null,
   "metadata": {
    "colab": {
     "base_uri": "https://localhost:8080/",
     "height": 717
    },
    "executionInfo": {
     "elapsed": 11853,
     "status": "ok",
     "timestamp": 1616601239578,
     "user": {
      "displayName": "Siddharth Kumaran",
      "photoUrl": "",
      "userId": "10724253737584617300"
     },
     "user_tz": 300
    },
    "id": "tooWVzyJJHIF",
    "outputId": "142f1b16-0862-4ce7-c491-9bc5cb3a7704"
   },
   "outputs": [],
   "source": [
    "output_2.plot(figsize=(14, 12))"
   ]
  },
  {
   "cell_type": "code",
   "execution_count": null,
   "metadata": {
    "colab": {
     "base_uri": "https://localhost:8080/",
     "height": 717
    },
    "executionInfo": {
     "elapsed": 556,
     "status": "ok",
     "timestamp": 1616601312151,
     "user": {
      "displayName": "Siddharth Kumaran",
      "photoUrl": "",
      "userId": "10724253737584617300"
     },
     "user_tz": 300
    },
    "id": "sUxvVt1rJLvz",
    "outputId": "a14b1690-7c0f-4200-d7d0-bc5b0184f8bf"
   },
   "outputs": [],
   "source": [
    "output_points_2 = sample_roads(output_2, n=3, isLine=True)\n",
    "ax = output_2.plot(figsize=(14, 12))\n",
    "output_points_2.plot(marker='*', color='red', markersize=60, ax=ax)"
   ]
  }
 ],
 "metadata": {
  "colab": {
   "collapsed_sections": [],
   "name": "GeoPandas_Methods.ipynb",
   "provenance": []
  },
  "kernelspec": {
   "display_name": "Python 3",
   "language": "python",
   "name": "python3"
  },
  "language_info": {
   "codemirror_mode": {
    "name": "ipython",
    "version": 3
   },
   "file_extension": ".py",
   "mimetype": "text/x-python",
   "name": "python",
   "nbconvert_exporter": "python",
   "pygments_lexer": "ipython3",
   "version": "3.7.3"
  }
 },
 "nbformat": 4,
 "nbformat_minor": 1
}
